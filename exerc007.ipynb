{
 "cells": [
  {
   "cell_type": "code",
   "execution_count": 1,
   "metadata": {},
   "outputs": [
    {
     "name": "stdout",
     "output_type": "stream",
     "text": [
      "Foguete será lançado em breve!\n"
     ]
    }
   ],
   "source": [
    "'''\n",
    "Outro aspecto interessante das funções é que as variáveis criadas dentro delas existem apenas dentro da função. Por exemplo, esse código falharia porque criamos a rocketNumber variável dentro da função e depois tentamos usá-la fora da função. O Python não conhece essa variável fora da função, então retorna um erro.\n",
    "\n",
    "Execute esta célula de código para ver o erro produzido ao tentar usar uma variável que só existe no escopo da função:\n",
    "'''\n",
    "\n",
    "def fogueteLancado():\n",
    "    numeroDoFoguete = 1\n",
    "    print('Foguete será lançado em breve!')\n",
    "\n",
    "    return\n",
    "\n",
    "fogueteLancado()"
   ]
  },
  {
   "cell_type": "code",
   "execution_count": 2,
   "metadata": {},
   "outputs": [
    {
     "ename": "UnboundLocalError",
     "evalue": "local variable 'rocketText' referenced before assignment",
     "output_type": "error",
     "traceback": [
      "\u001b[1;31m---------------------------------------------------------------------------\u001b[0m",
      "\u001b[1;31mUnboundLocalError\u001b[0m                         Traceback (most recent call last)",
      "Cell \u001b[1;32mIn[2], line 11\u001b[0m\n\u001b[0;32m      9\u001b[0m     rocketText \u001b[39m=\u001b[39m rocketText \u001b[39m+\u001b[39m \u001b[39m'\u001b[39m\u001b[39mtwo days\u001b[39m\u001b[39m'\u001b[39m\n\u001b[0;32m     10\u001b[0m     \u001b[39mreturn\u001b[39;00m\n\u001b[1;32m---> 11\u001b[0m OutputRocketText()\n",
      "Cell \u001b[1;32mIn[2], line 9\u001b[0m, in \u001b[0;36mOutputRocketText\u001b[1;34m()\u001b[0m\n\u001b[0;32m      8\u001b[0m \u001b[39mdef\u001b[39;00m \u001b[39mOutputRocketText\u001b[39m():\n\u001b[1;32m----> 9\u001b[0m     rocketText \u001b[39m=\u001b[39m rocketText \u001b[39m+\u001b[39m \u001b[39m'\u001b[39m\u001b[39mtwo days\u001b[39m\u001b[39m'\u001b[39m\n\u001b[0;32m     10\u001b[0m     \u001b[39mreturn\u001b[39;00m\n",
      "\u001b[1;31mUnboundLocalError\u001b[0m: local variable 'rocketText' referenced before assignment"
     ]
    }
   ],
   "source": [
    "'''\n",
    "Além disso, se você tiver variáveis criadas fora de uma função, poderá acessá-las dentro de uma função, mas não poderá alterá-las.\n",
    "\n",
    "Execute esta célula de código para ver o erro produzido ao tentar fazer isso:\n",
    "'''\n",
    "\n",
    "rocketText = 'We will launch in'\n",
    "def OutputRocketText():\n",
    "    rocketText = rocketText + 'two days'\n",
    "    return\n",
    "OutputRocketText()"
   ]
  },
  {
   "cell_type": "code",
   "execution_count": 4,
   "metadata": {},
   "outputs": [
    {
     "name": "stdout",
     "output_type": "stream",
     "text": [
      "We will launch in two days\n"
     ]
    }
   ],
   "source": [
    "'''\n",
    "Como você pode ver, este código também gera um erro, porque estamos tentando modificar uma variável que foi criada fora de uma função.\n",
    "\n",
    "Para combater isso, podemos fazer uma de duas coisas:\n",
    "\n",
    "Tornar uma variável uma variável global\n",
    "Dê uma variável para a função, para que ela saiba qual é a variável e, em seguida, retorne-a\n",
    "A maneira mais fácil de alterar o valor de uma variável dentro de uma função é torná-la uma variável global. Tudo no programa pode modificar uma variável global, mesmo que seja modificado dentro de uma função. Para tornar algo uma variável global, você deve criar uma variável antes de chamar a função e, em seguida, incluir uma linha em sua função que forneça o nome da variável global:\n",
    "'''\n",
    "rocketText = 'We will launch in'\n",
    "\n",
    "def OutputRocketText():\n",
    "    global rocketText\n",
    "    rocketText = rocketText + ' two days'\n",
    "    return\n",
    "\n",
    "OutputRocketText()\n",
    "print(rocketText)\n"
   ]
  },
  {
   "cell_type": "code",
   "execution_count": 6,
   "metadata": {},
   "outputs": [
    {
     "name": "stdout",
     "output_type": "stream",
     "text": [
      "Vamos lançar em dois dias!\n"
     ]
    }
   ],
   "source": [
    "'''\n",
    "Outra maneira de modificar variáveis dentro de uma função é usar parâmetros. Os parâmetros fornecem um conhecimento de função de uma variável quando você a chama. Para dizer ao Python que você deseja que suas funções tenham parâmetros, use o código a seguir.\n",
    "\n",
    "Tente executar esta célula de código para ver se isso funciona.\n",
    "'''\n",
    "\n",
    "def OutputRocketText(textImput):\n",
    "    textImput = textImput + ' dois dias!'\n",
    "    return textImput\n",
    "\n",
    "rocketText = 'Vamos lançar em'\n",
    "newRocketText = OutputRocketText(rocketText)\n",
    "print(newRocketText)"
   ]
  }
 ],
 "metadata": {
  "kernelspec": {
   "display_name": "Python 3",
   "language": "python",
   "name": "python3"
  },
  "language_info": {
   "codemirror_mode": {
    "name": "ipython",
    "version": 3
   },
   "file_extension": ".py",
   "mimetype": "text/x-python",
   "name": "python",
   "nbconvert_exporter": "python",
   "pygments_lexer": "ipython3",
   "version": "3.10.7"
  },
  "orig_nbformat": 4,
  "vscode": {
   "interpreter": {
    "hash": "b7d541cbfb69e0044fab0fddb90f0feb1feb7c9ef213537d11ba677ec87c2661"
   }
  }
 },
 "nbformat": 4,
 "nbformat_minor": 2
}
