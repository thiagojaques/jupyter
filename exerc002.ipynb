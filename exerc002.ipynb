{
 "cells": [
  {
   "cell_type": "code",
   "execution_count": 1,
   "metadata": {},
   "outputs": [
    {
     "data": {
      "text/plain": [
       "['basalt', 'highland', 'breccia']"
      ]
     },
     "execution_count": 1,
     "metadata": {},
     "output_type": "execute_result"
    }
   ],
   "source": [
    "'''\n",
    "como fazer uma lista?\n",
    "Definir listas em Python é semelhante à criação de variáveis. No entanto, as listas podem conter vários valores. Comece criando um nome para sua lista e, em seguida, defina-o igual a um valor. Por exemplo:\n",
    "'''\n",
    "\n",
    "# Crie uma lista de rochas lunares comuns\n",
    "\n",
    "rockTypes = [\"basalt\", \"highland\", \"breccia\"]\n",
    "rockTypes"
   ]
  },
  {
   "cell_type": "code",
   "execution_count": 2,
   "metadata": {},
   "outputs": [
    {
     "data": {
      "text/plain": [
       "['basalt', 1, 'highland', 2.5, 'breccia', 5]"
      ]
     },
     "execution_count": 2,
     "metadata": {},
     "output_type": "execute_result"
    }
   ],
   "source": [
    "# Uma lista com nomes de rochas e o número de cada rocha encontrada\n",
    "peAndCount = [\"basalt\", 1, \"highland\", 2.5, \"breccia\", 5]\n",
    "peAndCount\n"
   ]
  },
  {
   "cell_type": "code",
   "execution_count": 3,
   "metadata": {},
   "outputs": [
    {
     "data": {
      "text/plain": [
       "['basalt', 'highland', 'breccia', 'soil']"
      ]
     },
     "execution_count": 3,
     "metadata": {},
     "output_type": "execute_result"
    }
   ],
   "source": [
    "# Funções de Lista\n",
    "# Podemos adicionar itens a uma lista chamando a função .append()\n",
    "\n",
    "rockTypes.append(\"soil\")\n",
    "rockTypes"
   ]
  },
  {
   "cell_type": "code",
   "execution_count": 4,
   "metadata": {},
   "outputs": [
    {
     "data": {
      "text/plain": [
       "['basalt', 'highland', 'breccia']"
      ]
     },
     "execution_count": 4,
     "metadata": {},
     "output_type": "execute_result"
    }
   ],
   "source": [
    "# Podemos excluir itens do FINAL de uma lista chamando a função .pop()\n",
    "\n",
    "rockTypes.pop()\n",
    "rockTypes"
   ]
  },
  {
   "cell_type": "code",
   "execution_count": 8,
   "metadata": {},
   "outputs": [
    {
     "data": {
      "text/plain": [
       "'highland'"
      ]
     },
     "execution_count": 8,
     "metadata": {},
     "output_type": "execute_result"
    }
   ],
   "source": [
    "'''\n",
    "Por fim, podemos ver e alterar o valor de qualquer lugar da lista. Para ver qual é o valor em um determinado ponto da lista, use colchetes após o nome da lista para ver esse valor específico. Tudo em Python é indexado por zero, o que significa que a contagem começa em 0, não em 1. Então, se olharmos para o valor na primeira posição em uma lista, usaríamos: listName[0].\n",
    "\n",
    "'''\n",
    "# Em nosso exemplo de tipo de rocha, use o código a seguir para ver o valor na segunda posição da lista:\n",
    "\n",
    "\n",
    "rockTypes[1]\n"
   ]
  },
  {
   "cell_type": "code",
   "execution_count": 9,
   "metadata": {},
   "outputs": [
    {
     "data": {
      "text/plain": [
       "['basalt', 'highland', 'soil']"
      ]
     },
     "execution_count": 9,
     "metadata": {},
     "output_type": "execute_result"
    }
   ],
   "source": [
    "# Também podemos alterar um valor específico na lista em um ponto específico codificando:\n",
    "\n",
    "rockTypes[2] = \"soil\"\n",
    "rockTypes"
   ]
  }
 ],
 "metadata": {
  "kernelspec": {
   "display_name": "Python 3",
   "language": "python",
   "name": "python3"
  },
  "language_info": {
   "codemirror_mode": {
    "name": "ipython",
    "version": 3
   },
   "file_extension": ".py",
   "mimetype": "text/x-python",
   "name": "python",
   "nbconvert_exporter": "python",
   "pygments_lexer": "ipython3",
   "version": "3.10.7"
  },
  "orig_nbformat": 4,
  "vscode": {
   "interpreter": {
    "hash": "b7d541cbfb69e0044fab0fddb90f0feb1feb7c9ef213537d11ba677ec87c2661"
   }
  }
 },
 "nbformat": 4,
 "nbformat_minor": 2
}
