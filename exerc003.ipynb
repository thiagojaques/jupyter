{
 "cells": [
  {
   "cell_type": "code",
   "execution_count": 1,
   "metadata": {},
   "outputs": [
    {
     "name": "stdout",
     "output_type": "stream",
     "text": [
      "6\n",
      "Hello World\n"
     ]
    }
   ],
   "source": [
    "print(6)\n",
    "print('Hello World')"
   ]
  },
  {
   "cell_type": "code",
   "execution_count": 2,
   "metadata": {},
   "outputs": [
    {
     "name": "stdout",
     "output_type": "stream",
     "text": [
      "15\n"
     ]
    }
   ],
   "source": [
    "numRocks = 15\n",
    "print(numRocks)"
   ]
  },
  {
   "cell_type": "code",
   "execution_count": 3,
   "metadata": {},
   "outputs": [
    {
     "name": "stdout",
     "output_type": "stream",
     "text": [
      "The number of Basalt rocks found 4\n"
     ]
    }
   ],
   "source": [
    "# Podemos combinar variáveis e strings colocando uma vírgula entre elas:\n",
    "\n",
    "numBasalt = 4\n",
    "print('The number of Basalt rocks found', numBasalt)"
   ]
  },
  {
   "cell_type": "code",
   "execution_count": 4,
   "metadata": {},
   "outputs": [
    {
     "name": "stdout",
     "output_type": "stream",
     "text": [
      "On February 26 number of rocks found: 15\n"
     ]
    }
   ],
   "source": [
    "date = 'February 26'\n",
    "numRocks = 15\n",
    "print( 'On', date, 'number of rocks found:', numRocks)"
   ]
  }
 ],
 "metadata": {
  "kernelspec": {
   "display_name": "Python 3",
   "language": "python",
   "name": "python3"
  },
  "language_info": {
   "codemirror_mode": {
    "name": "ipython",
    "version": 3
   },
   "file_extension": ".py",
   "mimetype": "text/x-python",
   "name": "python",
   "nbconvert_exporter": "python",
   "pygments_lexer": "ipython3",
   "version": "3.10.7"
  },
  "orig_nbformat": 4,
  "vscode": {
   "interpreter": {
    "hash": "b7d541cbfb69e0044fab0fddb90f0feb1feb7c9ef213537d11ba677ec87c2661"
   }
  }
 },
 "nbformat": 4,
 "nbformat_minor": 2
}
