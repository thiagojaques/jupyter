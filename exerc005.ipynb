{
 "cells": [
  {
   "cell_type": "code",
   "execution_count": null,
   "metadata": {},
   "outputs": [],
   "source": [
    "'''\n",
    "Funções\n",
    "\n",
    "Print()é um exemplo de função em que o código que exibe a saída na tela é o mesmo e a única diferença é o que você deseja exibir. Nesta unidade, você aprenderá como escrever sua própria função.\n",
    "\n",
    "Para criar uma função em Python, devemos primeiro dizer a Python que é uma função. Usamos a palavra \"def\" para definir uma função (diga ao Python que o seguinte código é uma função). Você deve incluir um nome para sua função, parênteses e dois pontos.\n",
    "\n",
    "Finalmente, ao final de sua função, você deve incluir a palavra-chave \"return\". Isso informa ao Python que a função está concluída e para retornar ao ponto em que você chamou a função. Observe que todo o código dentro da função, incluindo a return instrução, deve ser recuado.\n",
    "'''\n",
    "def NomeDaFunction():\n",
    "    return"
   ]
  },
  {
   "cell_type": "code",
   "execution_count": 1,
   "metadata": {},
   "outputs": [
    {
     "name": "stdout",
     "output_type": "stream",
     "text": [
      "5\n",
      "4\n",
      "3\n",
      "2\n",
      "1\n",
      "O foguete será lançado em breve!\n"
     ]
    }
   ],
   "source": [
    "def textoDoFogueteDeSaida():\n",
    "    print(5)\n",
    "    print(4)\n",
    "    print(3)\n",
    "    print(2)\n",
    "    print(1)\n",
    "    print('O foguete será lançado em breve!')\n",
    "    return\n",
    "\n",
    "textoDoFogueteDeSaida()\n",
    "\n",
    "'''\n",
    "\n",
    "Como você pode ver no código, começamos definindo uma função que imprime a contagem regressiva e o anúncio do lançamento do foguete. Em seguida, adicionamos o código que chama a função. Se tivéssemos vários lançamentos de foguetes, poderíamos simplesmente chamar a OutputRocketTextfunção em vez de digitar toda a linha de impressão. Isso tornaria nosso código muito mais limpo e menos redundante.\n",
    "'''"
   ]
  }
 ],
 "metadata": {
  "kernelspec": {
   "display_name": "Python 3",
   "language": "python",
   "name": "python3"
  },
  "language_info": {
   "codemirror_mode": {
    "name": "ipython",
    "version": 3
   },
   "file_extension": ".py",
   "mimetype": "text/x-python",
   "name": "python",
   "nbconvert_exporter": "python",
   "pygments_lexer": "ipython3",
   "version": "3.10.7"
  },
  "orig_nbformat": 4,
  "vscode": {
   "interpreter": {
    "hash": "b7d541cbfb69e0044fab0fddb90f0feb1feb7c9ef213537d11ba677ec87c2661"
   }
  }
 },
 "nbformat": 4,
 "nbformat_minor": 2
}
