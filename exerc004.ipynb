{
 "cells": [
  {
   "cell_type": "code",
   "execution_count": 1,
   "metadata": {},
   "outputs": [
    {
     "name": "stdout",
     "output_type": "stream",
     "text": [
      "True\n",
      "False\n",
      "False\n"
     ]
    }
   ],
   "source": [
    "'''\n",
    "Condições\n",
    "Condições são coisas que precisam ser atendidas antes de mudarmos de tarefa. Podemos descobrir se uma condição é atendida comparando dois valores. Para fazer isso, usamos algo chamado operadores lógicos. Os operadores lógicos retornam True, se a instrução for verdadeira, ou False, se a instrução for falsa. Lembre-se: valores Truee Falsesão chamados de booleanos.\n",
    "\n",
    "Por exemplo, se nossa condição for verificar se a temperatura está acima de zero (para ver se o lançamento de um foguete seria adiado), nossa condição seria temperature > 32. Isso nos daria Truese a temperatura está acima de zero e Falsese a temperatura está igual ou abaixo de zero.\n",
    "\n",
    "Aqui estão alguns operadores lógicos comuns:\n",
    "\n",
    "É igual a:x == y\n",
    "Diferentes:x != y\n",
    "Menor que:x < y\n",
    "Menos que ou igual a:x <= y\n",
    "Maior que:x > y\n",
    "Maior ou igual:x >= y\n",
    "\n",
    "'''\n",
    "temperatura = 50\n",
    "print(temperatura >= 32)\n",
    "print(temperatura < 32)\n",
    "print(temperatura == 32)"
   ]
  },
  {
   "cell_type": "code",
   "execution_count": 2,
   "metadata": {},
   "outputs": [
    {
     "name": "stdout",
     "output_type": "stream",
     "text": [
      "False\n",
      "True\n"
     ]
    }
   ],
   "source": [
    "# Você também pode usar esses operadores em outros tipos de variáveis. Execute esta célula de código para comparar strings:\n",
    "\n",
    "rocha = 'basalto'\n",
    "print('terras altas' == rocha)\n",
    "print('basalto' == rocha)"
   ]
  },
  {
   "cell_type": "code",
   "execution_count": 3,
   "metadata": {},
   "outputs": [
    {
     "name": "stdout",
     "output_type": "stream",
     "text": [
      "False\n",
      "True\n"
     ]
    }
   ],
   "source": [
    "rock = 'basaltrock'\n",
    "print('highland' in rock)\n",
    "print('basalto' in rocha)"
   ]
  },
  {
   "cell_type": "code",
   "execution_count": null,
   "metadata": {},
   "outputs": [],
   "source": [
    "'''\n",
    "Se declaração\n",
    "A instrução condicional mais básica é a ifinstrução. A ifinstrução verifica se uma condição é verdadeira ou não. Se a condição for verdadeira, a ifinstrução executará o código definido dentro da instrução. Se a condição não for verdadeira, qualquer código definido dentro da ifinstrução será ignorado.\n",
    "\n",
    "Alguns exemplos do mundo real são:\n",
    "\n",
    "Se a temperatura estiver acima de zero, o foguete será lançado.\n",
    "Se os níveis de oxigênio caírem, pegue um traje espacial e um tanque de oxigênio.\n",
    "Em Python, o formato de uma ifinstrução é:\n",
    "'''\n",
    "\n",
    "if (conditionToTestIsTrue):\n",
    "    doSomething"
   ]
  },
  {
   "cell_type": "code",
   "execution_count": 1,
   "metadata": {},
   "outputs": [
    {
     "name": "stdout",
     "output_type": "stream",
     "text": [
      "Não encontramos rochas de basalto.\n",
      "Processo de verificação das rochas basálticas concluido.\n"
     ]
    }
   ],
   "source": [
    "basalto = 0\n",
    "if (basalto == 0):\n",
    "    print('Não encontramos rochas de basalto.')\n",
    "\n",
    "print('Processo de verificação das rochas basálticas concluido.')"
   ]
  },
  {
   "cell_type": "code",
   "execution_count": 2,
   "metadata": {},
   "outputs": [
    {
     "name": "stdout",
     "output_type": "stream",
     "text": [
      "Concluída a verificação das rochas basálticas\n"
     ]
    }
   ],
   "source": [
    "basalto = 1\n",
    "if (basalto == 0):\n",
    "    print('Não encontramos rochas de basalto.')\n",
    "print('Concluída a verificação das rochas basálticas')\n"
   ]
  },
  {
   "cell_type": "code",
   "execution_count": 3,
   "metadata": {},
   "outputs": [
    {
     "name": "stdout",
     "output_type": "stream",
     "text": [
      "Não encontramos rochas de basalto.\n",
      "Concluída a verificação das rochas basálticas.\n"
     ]
    }
   ],
   "source": [
    "'''\n",
    "A instrução else estende a instrução if  condicional e permite que os codificadores tenham mais controle sobre o que acontece dependendo do resultado da condição. Uma elsedeclaração deve ser escrita após uma ifdeclaração. O programa sempre executa o código definido dentro da elseinstrução quando a condição da ifinstrução não é atendida.\n",
    "\n",
    "Aqui está um exemplo:\n",
    "'''\n",
    "basalto = 0\n",
    "if (basalto == 0):\n",
    "    print('Não encontramos rochas de basalto.')\n",
    "else:\n",
    "    print('Encontramos algumas rochas de basalto!')\n",
    "print('Concluída a verificação das rochas basálticas.')"
   ]
  },
  {
   "cell_type": "code",
   "execution_count": null,
   "metadata": {},
   "outputs": [],
   "source": [
    "basalto = 5\n",
    "if (basalto == 2):\n",
    "    print('Não encontramos rochas de basalto.')\n",
    "else:\n",
    "    print('Encontramos algumas rochas de basalto!')\n",
    "print('Concluída a verificação das rochas basálticas.')"
   ]
  },
  {
   "cell_type": "code",
   "execution_count": 4,
   "metadata": {},
   "outputs": [
    {
     "name": "stdout",
     "output_type": "stream",
     "text": [
      "Foi encontrado exatamente 1 rocha de basalto!\n",
      "Concluída a verificação das rochas basálticas.\n"
     ]
    }
   ],
   "source": [
    "'''\n",
    "Declaração Elif\n",
    "O Python também oferece suporte a else-if verificações (elif), para maior controle sobre ações baseadas em dados. A elif declaração é escrita depois de uma if declaração e antes de uma else declaração. Você pode ter quantas elif declarações quiser entre a if declaração inicial e a declaração final else.\n",
    "\n",
    "A elif declaração é apenas outra if declaração. Quando as condições da if instrução inicial não são atendidas, o programa verifica se as condições da próxima elif instrução foram atendidas. Quando as condições da elif instrução são atendidas, o código definido dentro da elif instrução é executado. Qualquer código definido em uma instrução elif ou subsequente else é ignorado.\n",
    "\n",
    "Aqui está um exemplo de como uma elif instrução é usada. Preveja o que vai acontecer e, em seguida, execute a célula de código para ter certeza de que você entendeu:\n",
    "'''\n",
    "\n",
    "basalto = 1\n",
    "if(basalto == 0):\n",
    "    print('Não encontramos rochas basálticas.')\n",
    "elif(basalto == 1):\n",
    "    print('Foi encontrado exatamente 1 rocha de basalto!')\n",
    "else:\n",
    "    print('Encontramos mais de 1 rocha de basalto!')\n",
    "print('Concluída a verificação das rochas basálticas.')"
   ]
  },
  {
   "cell_type": "code",
   "execution_count": 6,
   "metadata": {},
   "outputs": [
    {
     "name": "stdout",
     "output_type": "stream",
     "text": [
      "5\n",
      "4\n",
      "3\n",
      "2\n",
      "1\n",
      "0\n",
      "Decolar\n"
     ]
    }
   ],
   "source": [
    "'''\n",
    "loop while\n",
    "O whileloop é um dos dois tipos de iteração sobre os quais você aprenderá. Nesse loop, você deve especificar uma condição primeiro e, em seguida, incluir o código sobre o qual deseja que o loop itere. O loop primeiro verifica se a condição é válida Truee, se for, examina o código dentro do loop. Quando a condição se torna False, o código no loop é ignorado e o programa continua executando o restante do seu código.\n",
    "\n",
    "Se a condição no loop for False inicial, o código dentro do loop nunca será executado. Durante um único loop, o programa passa pelo loop e executa o código. Depois que o código é concluído, ele analisa a condição para ver se ainda é True. É necessário alterar as variáveis em seu loop para eventualmente ter uma condição que seja False, ou então ocorrerá um loop infinito.\n",
    "\n",
    "Conforme mostrado no código abaixo, para escrever um while loop, você deve primeiro digitar \"while\" e depois a condição que você verificará antes de cada loop. Termine a linha com dois pontos e certifique-se de recuar a próxima linha, que será o loop real. O código abaixo imprime uma contagem regressiva para um foguete. Como você pode ver, a variável de contagem regressiva na seção de condição diminui em cada loop até atingir -1, ponto em que a condição é Falseencerrada e o loop termina.\n",
    "\n",
    "Preveja o que acontecerá quando você executar este código e, em seguida, clique no botão de execução para verificar se você entendeu\n",
    "'''\n",
    "\n",
    "contagem_regressiva = 5\n",
    "while contagem_regressiva >= 0:\n",
    "    print(contagem_regressiva)\n",
    "    contagem_regressiva = contagem_regressiva - 1\n",
    "print('Decolar')"
   ]
  },
  {
   "cell_type": "code",
   "execution_count": null,
   "metadata": {},
   "outputs": [],
   "source": [
    "'''No exemplo a seguir, a condição nunca é atendida e o loop continua para sempre (se não o pararmos). Nesse código, o desenvolvedor esqueceu de diminuir a variável timer, então a condição é sempre verdadeira.'''\n",
    "\n",
    "# Tentando encontrar vida fora do nosso planeta.\n",
    "\n",
    "timer = 10\n",
    "while timer > 0:\n",
    "    print('Hello, I am from Earth.')\n",
    "\n",
    "'''\n",
    "Este é um loop infinito e você deve esperar que o Python o finalize ou selecionar o botão Parar na parte superior da janela. É melhor evitar loops infinitos, se isso ainda não estiver aparente.\n",
    "'''"
   ]
  },
  {
   "cell_type": "code",
   "execution_count": 1,
   "metadata": {},
   "outputs": [
    {
     "name": "stdout",
     "output_type": "stream",
     "text": [
      "Marte\n",
      "Saturno,Jupiter\n"
     ]
    }
   ],
   "source": [
    "'''\n",
    "Loop For\n",
    "\n",
    "For loops executam essencialmente a mesma tarefa que os while loops: eles tendem a se concentrar na iteração de um determinado número de vezes. For os loops são ótimos quando você deseja percorrer uma lista e examinar cada elemento. No código abaixo, fazemos uma lista e depois passamos por todos os elementos e os imprimimos.\n",
    "\n",
    "'''\n",
    "planetas = 'Marte', 'Saturno,' 'Jupiter'\n",
    "for planet in planetas:\n",
    "    print(planet)"
   ]
  }
 ],
 "metadata": {
  "kernelspec": {
   "display_name": "Python 3",
   "language": "python",
   "name": "python3"
  },
  "language_info": {
   "codemirror_mode": {
    "name": "ipython",
    "version": 3
   },
   "file_extension": ".py",
   "mimetype": "text/x-python",
   "name": "python",
   "nbconvert_exporter": "python",
   "pygments_lexer": "ipython3",
   "version": "3.10.7"
  },
  "orig_nbformat": 4,
  "vscode": {
   "interpreter": {
    "hash": "b7d541cbfb69e0044fab0fddb90f0feb1feb7c9ef213537d11ba677ec87c2661"
   }
  }
 },
 "nbformat": 4,
 "nbformat_minor": 2
}
