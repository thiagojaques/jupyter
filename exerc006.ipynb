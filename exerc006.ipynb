{
 "cells": [
  {
   "cell_type": "code",
   "execution_count": 3,
   "metadata": {},
   "outputs": [
    {
     "name": "stdout",
     "output_type": "stream",
     "text": [
      "Primeiro Astronauta na lua\n",
      "\n",
      "Neil Armstrong\n",
      "\n",
      "Primeiro Astronauta na lua\n",
      "\n"
     ]
    }
   ],
   "source": [
    "'''\n",
    "Importar dados de arquivos de texto com Python\n",
    "\n",
    "Em muitas aplicações do Python, você precisará usar dados de uma fonte externa, como:\n",
    "\n",
    "Um arquivo do Excel com dados de rastreamento das várias partes de um foguete\n",
    "Um arquivo de texto para ler as rochas que um veículo lunar vê\n",
    "Nesta unidade, aprenderemos como ler e gravar dados de um arquivo de texto usando funções integradas do Python.\n",
    "\n",
    "Configurando dados\n",
    "O primeiro passo é criar o arquivo que queremos ler. Você também pode usar um arquivo existente; basta colocá-lo na mesma pasta do notebook que você está executando.\n",
    "\n",
    "Primeiro criaremos a variável strPathpara conter o nome de arquivo \"text.txt\".\n",
    "'''\n",
    "\n",
    "strPath = 'text.txt'\n",
    "\n",
    "'''\n",
    "Em seguida, usaremos a open() função para criar o arquivo em Python. Faremos uma nova variável nomeada fileObject para armazenar os dados. O arquivo será criado na pasta local, que geralmente é a mesma pasta do notebook.\n",
    "\n",
    "Observe que o segundo parâmetro é uma string com o valor \"w\". Isso indica para criar ou substituir qualquer arquivo existente. Você também pode passar \"a\" para anexar a um arquivo ou omitir o parâmetro para permitir apenas operações de leitura.\n",
    "'''\n",
    "\n",
    "fileObject = open(strPath, 'w')\n",
    "\n",
    "'''\n",
    "Em seguida, vamos usar a write()função para escrever algum texto no arquivo. Queremos várias linhas, então adicionaremos um caractere \"\\n\" ao final de cada string.\n",
    "'''\n",
    "\n",
    "fileObject.write('Primeiro Astronauta na lua\\n')\n",
    "fileObject.write('Neil Armstrong\\n')\n",
    "\n",
    "\n",
    "'''\n",
    "Por último, precisamos fechar o arquivo. Isso libera todos os dados que ainda não foram gravados no arquivo em disco.\n",
    "'''\n",
    "\n",
    "fileObject.close()\n",
    "\n",
    "'''\n",
    "Agora, vamos fazer as mesmas operações básicas, mas ler novamente o conteúdo do arquivo. Usaremos o mesmo nome de arquivo, mas desta vez abriremos o arquivo para leitura.\n",
    "'''\n",
    "\n",
    "fileObject = open(strPath)\n",
    "\n",
    "'''\n",
    "Por fim, faremos com que Python leia essa fileObjectvariável para nos fornecer uma lista de strings que podemos explorar com funções Python usando a readlines()função. A readlines()função pega cada linha do arquivo de texto e a torna uma entrada em uma lista. Vamos armazenar esta lista em outra variável para que possamos imprimi-la mais tarde. Também é uma boa prática fechar o fileObjectquando terminar. Lembre-se, fazemos isso chamando close().\n",
    "'''\n",
    "\n",
    "textList = fileObject.readlines()\n",
    "fileObject.close()\n",
    "\n",
    "'''\n",
    "Agora que lemos o arquivo, podemos imprimir o conteúdo do arquivo iterado sobre a lista:\n",
    "'''\n",
    "for linha in textList:\n",
    "    print(linha)\n",
    "\n",
    "'''O exemplo acima nos ensina como ler os dados completos em Python. Também podemos ler um arquivo de texto e passar apenas por algumas partes dele. Isso é chamado de \"análise\" na programação. Para analisar o texto que acabamos de importar, vamos linha por linha e imprimir cada linha. Como cada linha é um elemento da nossa lista, podemos obter a primeira linha olhando para o primeiro elemento da lista'''\n",
    "\n",
    "primeiraLinha = textList[0]\n",
    "print(primeiraLinha)"
   ]
  },
  {
   "cell_type": "code",
   "execution_count": 5,
   "metadata": {},
   "outputs": [
    {
     "name": "stdout",
     "output_type": "stream",
     "text": [
      "Neil Armstrong\n",
      "\n"
     ]
    }
   ],
   "source": [
    "primeiraLinha = textList[1]\n",
    "print(primeiraLinha)"
   ]
  }
 ],
 "metadata": {
  "kernelspec": {
   "display_name": "Python 3",
   "language": "python",
   "name": "python3"
  },
  "language_info": {
   "codemirror_mode": {
    "name": "ipython",
    "version": 3
   },
   "file_extension": ".py",
   "mimetype": "text/x-python",
   "name": "python",
   "nbconvert_exporter": "python",
   "pygments_lexer": "ipython3",
   "version": "3.10.7"
  },
  "orig_nbformat": 4,
  "vscode": {
   "interpreter": {
    "hash": "b7d541cbfb69e0044fab0fddb90f0feb1feb7c9ef213537d11ba677ec87c2661"
   }
  }
 },
 "nbformat": 4,
 "nbformat_minor": 2
}
